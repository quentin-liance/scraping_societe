{
 "cells": [
  {
   "cell_type": "markdown",
   "metadata": {},
   "source": [
    "# Importation des packages & modules nécessaires"
   ]
  },
  {
   "cell_type": "code",
   "execution_count": 1,
   "metadata": {},
   "outputs": [],
   "source": [
    "import pandas as pd\n",
    "import random\n",
    "import yaml\n",
    "import os\n",
    "import sys\n",
    "import requests\n",
    "from io import StringIO\n",
    "from urllib.request import Request, urlopen\n",
    "from bs4 import BeautifulSoup as bs\n",
    "\n",
    "module_path = os.path.abspath(os.path.join(\"..\"))\n",
    "if module_path not in sys.path:\n",
    "    sys.path.append(module_path)\n",
    "\n",
    "import src.constants as csts"
   ]
  },
  {
   "cell_type": "markdown",
   "metadata": {},
   "source": [
    "# Headers"
   ]
  },
  {
   "cell_type": "code",
   "execution_count": 3,
   "metadata": {},
   "outputs": [
    {
     "data": {
      "text/plain": [
       "{'Chrome': {'accept': 'text/html,application/xhtml+xml,application/xml;q=0.9,image/avif,image/webp,image/apng,*/*;q=0.8,application/signed-exchange;v=b3;q=0.9',\n",
       "  'accept-encoding': 'gzip, deflate, br',\n",
       "  'accept-language': 'fr-FR,fr;q=0.9,en-US;q=0.8,en;q=0.7',\n",
       "  'cache-control': 'max-age=0',\n",
       "  'sec-fetch-dest': 'document',\n",
       "  'sec-fetch-mode': 'navigate',\n",
       "  'sec-fetch-site': 'same-origin',\n",
       "  'sec-fetch-user': '?1',\n",
       "  'upgrade-insecure-requests': '1',\n",
       "  'user-agent': 'Mozilla/5.0 (Windows NT 10.0; Win64; x64) AppleWebKit/537.36 (KHTML, like Gecko) Chrome/95.0.4638.69 Safari/537.36'},\n",
       " 'Edge': {'accept': 'text/html,application/xhtml+xml,application/xml;q=0.9,image/webp,image/apng,*/*;q=0.8,application/signed-exchange;v=b3;q=0.9',\n",
       "  'accept-encoding': 'gzip, deflate, br',\n",
       "  'accept-language': 'en-GB,en;q=0.9,en-US;q=0.8',\n",
       "  'cache-control': 'max-age=0',\n",
       "  'sec-fetch-dest': 'document',\n",
       "  'sec-fetch-mode': 'navigate',\n",
       "  'sec-fetch-site': 'none',\n",
       "  'sec-fetch-user': '?1',\n",
       "  'upgrade-insecure-requests': '1',\n",
       "  'user-agent': 'Mozilla/5.0 (Windows NT 10.0; Win64; x64) AppleWebKit/537.36 (KHTML, like Gecko) Chrome/95.0.4638.69 Safari/537.36 Edg/95.0.1020.44'},\n",
       " 'Firefox': {'Accept': 'text/html,application/xhtml+xml,application/xml;q=0.9,image/avif,image/webp,*/*;q=0.8',\n",
       "  'Accept-Encoding': 'gzip, deflate, br',\n",
       "  'Accept-Language': 'fr,fr-FR;q=0.8,en-US;q=0.5,en;q=0.3',\n",
       "  'Connection': 'keep-alive',\n",
       "  'DNT': '1',\n",
       "  'Upgrade-Insecure-Requests': '1',\n",
       "  'Sec-Fetch-Dest': 'document',\n",
       "  'Sec-Fetch-Mode': 'navigate',\n",
       "  'Sec-Fetch-Site': 'cross-site',\n",
       "  'User-Agent': 'Mozilla/5.0 (Windows NT 10.0; Win64; x64; rv:94.0) Gecko/20100101 Firefox/94.0'},\n",
       " 'IE': {'Accept': 'text/html, application/xhtml+xml, image/jxr, */*',\n",
       "  'Accept-Encoding': 'gzip, deflate',\n",
       "  'Accept-Language': 'en-GB',\n",
       "  'Connection': 'Keep-Alive',\n",
       "  'User-Agent': 'Mozilla/5.0 (Windows NT 10.0; WOW64; Trident/7.0; rv:11.0) like Gecko'}}"
      ]
     },
     "execution_count": 3,
     "metadata": {},
     "output_type": "execute_result"
    }
   ],
   "source": [
    "# Chargement des headers\n",
    "with open(\"headers.yml\") as f_headers:\n",
    "    browser_headers = yaml.safe_load(f_headers)\n",
    "\n",
    "# Exemple de Header de Firefox\n",
    "browser_headers"
   ]
  },
  {
   "cell_type": "markdown",
   "metadata": {},
   "source": [
    "# Proxies"
   ]
  },
  {
   "cell_type": "code",
   "execution_count": 15,
   "metadata": {},
   "outputs": [
    {
     "name": "stdout",
     "output_type": "stream",
     "text": [
      "11\n"
     ]
    },
    {
     "data": {
      "text/plain": [
       "['http://5.161.212.254:3128',\n",
       " 'http://68.183.48.146:10006',\n",
       " 'http://189.240.60.168:9090',\n",
       " 'http://160.19.94.188:5671',\n",
       " 'http://18.230.145.231:3128',\n",
       " 'http://13.48.26.64:8080',\n",
       " 'http://159.65.176.77:10000',\n",
       " 'http://20.6.0.172:80',\n",
       " 'http://68.183.144.115:10000',\n",
       " 'http://72.10.164.178:10801',\n",
       " 'http://171.67.71.112:8083']"
      ]
     },
     "execution_count": 15,
     "metadata": {},
     "output_type": "execute_result"
    }
   ],
   "source": [
    "proxy_url = \"https://free-proxy-list.net/\"\n",
    "response = requests.get(proxy_url)\n",
    "proxy_list = pd.read_html(StringIO(response.text))[0]\n",
    "proxy_list[\"url\"] = \"http://\" + proxy_list[\"IP Address\"] + \":\" + proxy_list[\"Port\"].astype(str)\n",
    "https_proxies = proxy_list.loc[proxy_list[\"Https\"] == \"yes\", \"url\"].tolist()\n",
    "print(len(https_proxies))\n",
    "https_proxies"
   ]
  },
  {
   "cell_type": "code",
   "execution_count": 17,
   "metadata": {},
   "outputs": [
    {
     "name": "stdout",
     "output_type": "stream",
     "text": [
      "http://5.161.212.254:3128 NOT OK\n",
      "HTTPSConnectionPool(host='www.societe.com', port=443): Max retries exceeded with url: /societe/france-croco-501737761.html (Caused by ProxyError('Unable to connect to proxy', NewConnectionError('<urllib3.connection.HTTPSConnection object at 0x7f6de746f0d0>: Failed to establish a new connection: [Errno 111] Connection refused')))\n",
      "http://68.183.48.146:10006 NOT OK\n",
      "HTTPSConnectionPool(host='www.societe.com', port=443): Max retries exceeded with url: /societe/france-croco-501737761.html (Caused by ProxyError('Unable to connect to proxy', NewConnectionError('<urllib3.connection.HTTPSConnection object at 0x7f6de73d2a00>: Failed to establish a new connection: [Errno 111] Connection refused')))\n",
      "http://189.240.60.168:9090 NOT OK\n",
      "HTTPSConnectionPool(host='www.societe.com', port=443): Max retries exceeded with url: /societe/france-croco-501737761.html (Caused by SSLError(SSLError(1, '[SSL: KRB5_S_TKT_NYV] unexpected eof while reading (_ssl.c:2622)')))\n",
      "http://160.19.94.188:5671 NOT OK\n",
      "HTTPSConnectionPool(host='www.societe.com', port=443): Read timed out. (read timeout=10)\n",
      "http://18.230.145.231:3128 NOT OK\n",
      "HTTPSConnectionPool(host='www.societe.com', port=443): Max retries exceeded with url: /societe/france-croco-501737761.html (Caused by SSLError(SSLCertVerificationError(1, '[SSL: CERTIFICATE_VERIFY_FAILED] certificate verify failed: self-signed certificate (_ssl.c:1123)')))\n",
      "http://13.48.26.64:8080 NOT OK\n",
      "HTTPSConnectionPool(host='www.societe.com', port=443): Max retries exceeded with url: /societe/france-croco-501737761.html (Caused by SSLError(SSLCertVerificationError(1, '[SSL: CERTIFICATE_VERIFY_FAILED] certificate verify failed: self-signed certificate (_ssl.c:1123)')))\n",
      "http://159.65.176.77:10000 NOT OK\n",
      "HTTPSConnectionPool(host='www.societe.com', port=443): Read timed out. (read timeout=10)\n",
      "http://20.6.0.172:80 NOT OK\n",
      "('Connection aborted.', RemoteDisconnected('Remote end closed connection without response'))\n",
      "http://68.183.144.115:10000 NOT OK\n",
      "HTTPSConnectionPool(host='www.societe.com', port=443): Max retries exceeded with url: /societe/france-croco-501737761.html (Caused by ProxyError('Unable to connect to proxy', NewConnectionError('<urllib3.connection.HTTPSConnection object at 0x7f6de73f49d0>: Failed to establish a new connection: [Errno 111] Connection refused')))\n",
      "http://72.10.164.178:10801 NOT OK\n",
      "HTTPSConnectionPool(host='www.societe.com', port=443): Max retries exceeded with url: /societe/france-croco-501737761.html (Caused by ProxyError('Unable to connect to proxy', NewConnectionError('<urllib3.connection.HTTPSConnection object at 0x7f6de73d2f10>: Failed to establish a new connection: [Errno 111] Connection refused')))\n",
      "http://171.67.71.112:8083 NOT OK\n",
      "HTTPSConnectionPool(host='www.societe.com', port=443): Max retries exceeded with url: /societe/france-croco-501737761.html (Caused by ProxyError('Unable to connect to proxy', ConnectTimeoutError(<urllib3.connection.HTTPSConnection object at 0x7f6de73d2760>, 'Connection to 171.67.71.112 timed out. (connect timeout=10)')))\n"
     ]
    }
   ],
   "source": [
    "url = \"https://www.societe.com/societe/france-croco-501737761.html\"\n",
    "\n",
    "good_proxies = []\n",
    "\n",
    "for proxy_url in https_proxies:\n",
    "\n",
    "    browser_name = random.choice(csts.BROWSERS)\n",
    "    headers = browser_headers[browser_name]\n",
    "    proxies = {\"http\": proxy_url, \"https\": proxy_url}\n",
    "\n",
    "    try:\n",
    "        response = requests.get(url=url, headers=headers, proxies=proxies, timeout=10)\n",
    "        assert response.status_code == 200\n",
    "        good_proxies.append(proxy_url)\n",
    "        print(f\"{proxy_url} OK, added to good_proxies set\")\n",
    "    except Exception as e:\n",
    "        print(f\"{proxy_url} NOT OK\")\n",
    "        print(e)\n",
    "\n",
    "if len(good_proxies) == 1:\n",
    "    print(\"Let's continue !\")"
   ]
  },
  {
   "cell_type": "code",
   "execution_count": 14,
   "metadata": {},
   "outputs": [
    {
     "data": {
      "text/plain": [
       "[]"
      ]
     },
     "execution_count": 14,
     "metadata": {},
     "output_type": "execute_result"
    }
   ],
   "source": [
    "good_proxies"
   ]
  },
  {
   "cell_type": "code",
   "execution_count": null,
   "metadata": {},
   "outputs": [],
   "source": [
    "url = \"https://www.societe.com/societe/france-croco-501737761.html\"\n",
    "\n",
    "req = Request(url, headers={'User-Agent': browser_headers.get(\"IE\").get(\"User-Agent\")})\n",
    "\n",
    "# Envoi de la requête et récupération de la réponse\n",
    "webpage = urlopen(req).read()\n",
    "\n",
    "# Analyse de la réponse HTML à l'aide de BeautifulSoup\n",
    "contenu_page = bs(webpage, \"html.parser\")"
   ]
  },
  {
   "cell_type": "code",
   "execution_count": null,
   "metadata": {},
   "outputs": [],
   "source": [
    "contenu_page.findAll(name=\"table\", class_=\"Table identity mt-16\")"
   ]
  },
  {
   "cell_type": "code",
   "execution_count": 18,
   "metadata": {},
   "outputs": [],
   "source": [
    "response = requests.get(url, headers=browser_headers[\"Firefox\"])\n",
    "assert response.status_code == 200\n",
    "html = response.content\n",
    "soup = bs(html, \"html.parser\")"
   ]
  },
  {
   "cell_type": "code",
   "execution_count": 19,
   "metadata": {},
   "outputs": [
    {
     "data": {
      "text/plain": [
       "<table class=\"Table identity mt-16\" id=\"rensjur\"><tr><td class=\"arrow\">Date création entreprise</td><td class=\"flex space-between flex-wrap\"><div class=\"TableTexteGauche\"><span class=\"TableTextGenerique\"> 17-12-2007 </span><span class=\"TableTextDetail\"><span class=\"show-mobile-inline-l\"> - </span>il y a 16 ans </span></div><span class=\"TableLienDroite\"><a class=\"Lien with-picto\" href=\"https://www.societe.com/documents-officiels/france-croco-501737761.html#statutshop\"><span>Statuts constitutifs</span><i class=\"material-icons-outlined\">chevron_right</i></a></span></td></tr><tr class=\"Paywall\"><td class=\"arrow\" colspan=\"2\"><div class=\"FicheDonnees__around imrFirst\" id=\"catjur-histo-around\"><div class=\"FicheDonnees\" id=\"catjur-histo\" onclick=\"show_historique_donnees('catjur-histo-voir')\"><div class=\"abonne-compteplus donneesHistoriques voirPlus\" id=\"catjur-histo-voir\"><p class=\"Lien with-picto\"><span class=\"hide-mobile-inline-l\">Historique</span><span class=\"show-mobile-inline-l\">Voir l'historique</span><i class=\"material-icons-outlined\">expand_more</i></p></div><div class=\"FicheDonnees__libelle\">Forme juridique </div><div class=\"FicheDonnees__donneeGenerique ml-6\" id=\"catjur-histo-description\">SASU Société par actions simplifiée à associé unique </div><div class=\"FicheDonnees__donneeGenerique soPrimaryColor2 ml-6 isHidden\" id=\"catjur-histo-libelle\">Historique </div></div><div class=\"FicheDonnees__historique noOpacity nocompteplus\" id=\"catjur-histo-content\"><div class=\"histo-part\" id=\"catjur-histo-content-src-rcs\"><div class=\"FicheDonnees__item\"><div class=\"FicheDonnees__date\"><p>Du 11-11-2016</p><p>à aujourd'hui </p><p class=\"soBaseColor-600 italic\">7 ans, 1 mois et 26 jours </p></div><div class=\"FicheDonnees__timeline first\"><div class=\"line\"></div><div class=\"cercle\"></div></div><div class=\"FicheDonnees__description first newoffers\"><span class=\"description-txt\">SASU Société par actions simplifiée à associé unique</span></div></div><div class=\"FicheDonnees__item\"><div class=\"FicheDonnees__date\"><p>Du XX-XX-XXXX</p><p>au XX-XX-XXXX </p><p class=\"soBaseColor-600 italic\">X XXXX X XXXX XX XX XXXXX </p></div><div class=\"FicheDonnees__timeline\"><div class=\"line\"></div><div class=\"cercle\"></div></div><div class=\"FicheDonnees__description newoffers\"><span class=\"description-txt\">S.......</span></div></div><div class=\"FicheDonnees__item\"><div class=\"FicheDonnees__date\"><p>Du XX-XX-XXXX</p><p>au XX-XX-XXXX </p><p class=\"soBaseColor-600 italic\">XX XXXXX </p></div><div class=\"FicheDonnees__timeline\"><div class=\"line\"></div><div class=\"cercle\"></div></div><div class=\"FicheDonnees__description newoffers\"><span class=\"description-txt\">S.......</span></div></div><div class=\"FicheDonnees__item\"><div class=\"FicheDonnees__date\"><p>Du XX-XX-XXXX</p><p>au XX-XX-XXXX </p><p class=\"soBaseColor-600 italic\">X XXXX X XXXX XX XX XXXXX </p></div><div class=\"FicheDonnees__timeline\"><div class=\"line\"></div><div class=\"cercle\"></div></div><div class=\"FicheDonnees__description newoffers\"><span class=\"description-txt\">S.......</span></div></div><div class=\"FicheDonnees__item\"><div class=\"FicheDonnees__date\"><p>Du XX-XX-XXXX</p><p>au XX-XX-XXXX </p><p class=\"soBaseColor-600 italic\">X XXX XX X XXXXX </p></div><div class=\"FicheDonnees__timeline\"><div class=\"line\"></div><div class=\"cercle\"></div></div><div class=\"FicheDonnees__description newoffers\"><span class=\"description-txt\">S.......</span></div></div><div class=\"compteplus historiqueDonneesAffiliationDesktop newoffers\"><div class=\"AutopromoPlus__promo inTable newoffers\"><span class=\"AutopromoPlus__icon\"><i class=\"material-icons-outlined\">rocket_launch</i></span><p class=\"AutopromoPlus__text\">Version limitée. Pour en voir plus, faites évoluer votre offre. </p><p class=\"flex center\"><a class=\"CtaButton text reverse mr-8\" href=\"https://paiement.societe.com/cgi-bin/compte-login\">Se connecter</a><a class=\"CtaButton reverse\" href=\"/offres.html\" onclick=\"gana_event(this.href, 'Conversion', 'SocietePlus', 'catjur imr'); return false;\">Découvrir</a></p></div></div></div><div class=\"histo-part isHidden\" id=\"catjur-histo-content-src-insee\"><div class=\"FicheDonnees__item\"><div class=\"FicheDonnees__date\"><p>Du 20-03-2013</p><p>à aujourd'hui </p><p class=\"soBaseColor-600 italic\">10 ans, 9 mois et 20 jours </p></div><div class=\"FicheDonnees__timeline first\"><div class=\"line\"></div><div class=\"cercle\"></div></div><div class=\"FicheDonnees__description first newoffers\"><span class=\"description-txt\">Société par actions simplifiée</span></div></div><div class=\"FicheDonnees__item\"><div class=\"FicheDonnees__date\"><p>Du XX-XX-XXXX</p><p>au XX-XX-XXXX </p><p class=\"soBaseColor-600 italic\">X XXXX X XXXX XX XX XXXXX </p></div><div class=\"FicheDonnees__timeline\"><div class=\"line\"></div><div class=\"cercle\"></div></div><div class=\"FicheDonnees__description newoffers\"><span class=\"description-txt\">S.......</span></div></div><div class=\"FicheDonnees__item\"><div class=\"FicheDonnees__date\"><p>Du XX-XX-XXXX</p><p>au XX-XX-XXXX </p><p class=\"soBaseColor-600 italic\">X XXX XX XX XXXXX </p></div><div class=\"FicheDonnees__timeline\"><div class=\"line\"></div><div class=\"cercle\"></div></div><div class=\"FicheDonnees__description newoffers\"><span class=\"description-txt\">S.......</span></div></div><div class=\"compteplus historiqueDonneesAffiliationDesktop newoffers\"><div class=\"AutopromoPlus__promo inTable newoffers\"><span class=\"AutopromoPlus__icon\"><i class=\"material-icons-outlined\">rocket_launch</i></span><p class=\"AutopromoPlus__text\">Version limitée. Pour en voir plus, faites évoluer votre offre. </p><p class=\"flex center\"><a class=\"CtaButton text reverse mr-8\" href=\"https://paiement.societe.com/cgi-bin/compte-login\">Se connecter</a><a class=\"CtaButton reverse\" href=\"/offres.html\" onclick=\"gana_event(this.href, 'Conversion', 'SocietePlus', 'catjur insee'); return false;\">Découvrir</a></p></div></div></div></div></div></td></tr><tr><td class=\"arrow\">Noms commerciaux</td><td class=\"break-word\">FRANCE CROCO</td></tr><tr class=\"isHidden\" id=\"rensjurtel\"><td class=\"p-0 arrow\" colspan=\"2\"><table class=\"Table simple no-bg\"><tr><td class=\"no-padding arrow\">Téléphone</td><td class=\"Paywall\"><div class=\"Lien\" data-annunrlead=\"\" data-compteplus=\"nocompteplus\" data-siret=\"50173776100020\" data-src=\"rensjur\" id=\"identiteatel-rensjur\"><div class=\"flex wd-100\"><span class=\"hide-mobile-inline-mq-736px\">Afficher le téléphone</span><span class=\"inline-block show-mobile-inline-mq-736px\">Afficher le numéro</span></div></div><div class=\"isHidden flex flex-nowrap\" id=\"aboutement-rensjur\"><div class=\"wd-100 shrink\"><div class=\"aboutement-ctr\" id=\"telab-rensjur\"><i class=\"material-icons\">call</i><strong class=\"aboutement-num\" id=\"telab-rensjur-num\"></strong><div class=\"aboutement-info\" id=\"telab-rensjur-info\"><span>Service <em class=\"isHidden normal\">gratuit</em><b>2,99€/appel</b></span><span>+ prix appel</span></div></div><div class=\"aboutement-price-details pt-2\" id=\"price_details-rensjur\"></div></div><div class=\"compteplus tvaAffiliationDesktop newoffers isHidden\" id=\"aboutement-tel-affiliation-desktop\"><div class=\"compteplus historiqueDonneesAffiliationDesktop newoffers\"><div class=\"AutopromoPlus__promo inTable newoffers\"><span class=\"AutopromoPlus__icon\"><i class=\"material-icons-outlined\">rocket_launch</i></span><p class=\"AutopromoPlus__text\">Version limitée. Pour en voir plus, faites évoluer votre offre. </p><p class=\"flex center\"><a class=\"CtaButton text reverse mr-8\" href=\"https://paiement.societe.com/cgi-bin/compte-login\">Se connecter</a><a class=\"CtaButton reverse\" href=\"/offres.html\" onclick=\"gana_event(this.href, 'Conversion', 'SocietePlus', 'aboutement tel'); return false;\">Découvrir</a></p></div></div></div></div></td></tr><tr class=\"isHidden\" id=\"aboutement-tel-affiliation-mobile\"><td class=\"tvaAffiliationMobile no-padding\"></td><td class=\"tvaAffiliationMobile no-padding\"><div class=\"compteplus\"><div class=\"AutopromoPlus__promo inTable newoffers\"><span class=\"AutopromoPlus__icon\"><i class=\"material-icons-outlined\">rocket_launch</i></span><p class=\"AutopromoPlus__text\">Version limitée. Pour en voir plus, faites évoluer votre offre. </p><p class=\"flex center\"><a class=\"CtaButton text reverse mr-8\" href=\"https://paiement.societe.com/cgi-bin/compte-login\">Se connecter</a><a class=\"CtaButton reverse\" href=\"/offres.html\" onclick=\"gana_event(this.href, 'Conversion', 'SocietePlus', 'aboutement tel'); return false;\">Découvrir</a></p></div></div></td></tr></table></td></tr><tr><td class=\"arrow\">Adresse postale</td><td><a class=\"Lien secondaire\" href=\"/entreprises/za%20la%20mare%20aux%20raines%20nord/50190_PERIERS.html\">ZA LA MARE AUX RAINES NORD 50190 PERIERS </a></td></tr><tr class=\"bg-soPrimaryColor2-25\"><td colspan=\"2\"><span class=\"soBaseColor-700 ft-medium\">Numéros d'identification</span></td></tr><tr><td class=\"arrow\">Numéro SIREN</td><td class=\"no-padding arrow\"><div class=\"copyNumber\"><div class=\"copyNumber__number\" id=\"siren_number\" onclick=\"copy_clipboard(this)\"><span class=\"copyNumber__copy\">501737761</span></div><i class=\"material-icons-outlined copyNumber__icon\" id=\"siren_icon\" onclick=\"copy_clipboard(this)\">content_copy</i><span class=\"copyNumber__action\" id=\"siren_action\">Copier le n°<span class=\"break\"></span> de SIREN</span><label class=\"labelIsInvisible\" for=\"siren_copy\">Copier Siren</label><input class=\"copyNumber__copyHidden\" id=\"siren_copy\" value=\"501737761\"/></div></td></tr><tr><td class=\"arrow\">Numéro SIRET (<a class=\"soBaseColor-600 txt-hover-underline\" href=\"/etablissements/france-croco-501737761.html\">siège</a>)</td><td class=\"no-padding arrow\"><div class=\"copyNumber\"><div class=\"copyNumber__number\" id=\"siret_number\" onclick=\"copy_clipboard(this)\"><span class=\"copyNumber__copy\">50173776100020</span></div><i class=\"material-icons-outlined copyNumber__icon\" id=\"siret_icon\" onclick=\"copy_clipboard(this)\">content_copy</i><span class=\"copyNumber__action\" id=\"siret_action\">Copier le n°<span class=\"break\"></span> de SIRET</span><label class=\"labelIsInvisible\" for=\"siret_copy\">Copier Siret</label><input class=\"copyNumber__copyHidden\" id=\"siret_copy\" value=\"50173776100020\"/></div></td></tr><tr><td class=\"arrow\">Numéro TVA Intracommunautaire</td><td class=\"no-padding arrow\"><div class=\"copyNumber\"><div class=\"copyNumber__number\" id=\"tva_number\" onclick=\"copy_clipboard(this)\"><span class=\"copyNumber__copy\">FR81501737761</span></div><i class=\"material-icons-outlined copyNumber__icon\" id=\"tva_icon\" onclick=\"copy_clipboard(this)\">content_copy</i><span class=\"copyNumber__action\" id=\"tva_action\">Copier le n°<span class=\"break\"></span> de TVA</span><label class=\"labelIsInvisible\" for=\"tva_copy\">Copier TVA</label><input class=\"copyNumber__copyHidden\" id=\"tva_copy\" value=\"FR81501737761\"/></div></td></tr><tr><td class=\"arrow\">Numéro RCS</td><td>Coutances B 501 737 761</td></tr><tr class=\"bg-soPrimaryColor2-25\"><td colspan=\"2\"><span class=\"soBaseColor-700 ft-medium\">Informations commerciales</span></td></tr><tr class=\"Paywall\"><td class=\"arrow\" colspan=\"2\"><div class=\"FicheDonnees__around imrFirst\" id=\"ape-histo-around\"><div class=\"FicheDonnees\" id=\"ape-histo\" onclick=\"show_historique_donnees('ape-histo-voir')\"><div class=\"abonne-compteplus donneesHistoriques voirPlus\" id=\"ape-histo-voir\"><p class=\"Lien with-picto\"><span class=\"hide-mobile-inline-l\">Historique</span><span class=\"show-mobile-inline-l\">Voir l'historique</span><i class=\"material-icons-outlined\">expand_more</i></p></div><div class=\"FicheDonnees__libelle\">Activité (Code NAF ou APE) </div><div class=\"FicheDonnees__donneeGenerique ml-6\" id=\"ape-histo-description\">Apprêt et tannage des cuirs, préparation et teinture des fourrures (1511Z) </div><div class=\"FicheDonnees__donneeGenerique ml-6 soPrimaryColor2 isHidden\" id=\"ape-histo-libelle\">Historique </div></div><div class=\"FicheDonnees__historique noOpacity nocompteplus\" id=\"ape-histo-content\"><div class=\"histo-part\" id=\"ape-histo-content-src-rcs\"><div class=\"FicheDonnees__item\"><div class=\"FicheDonnees__date\"><p>Du 22-03-2023</p><p>à aujourd'hui </p><p class=\"soBaseColor-600 italic\">9 mois et 18 jours </p></div><div class=\"FicheDonnees__timeline first\"><div class=\"line\"></div><div class=\"cercle\"></div></div><div class=\"FicheDonnees__description first newoffers\"><span class=\"description-txt\">Apprêt et tannage des cuirs, préparation et teinture des fourrures (1511Z)</span></div></div><div class=\"FicheDonnees__item\"><div class=\"FicheDonnees__date\"><p>Du XX-XX-XXXX</p><p>au XX-XX-XXXX </p><p class=\"soBaseColor-600 italic\">X XXXX XX X XXXXX </p></div><div class=\"FicheDonnees__timeline\"><div class=\"line\"></div><div class=\"cercle\"></div></div><div class=\"FicheDonnees__description newoffers\"><span class=\"description-txt\">C....... (4.......)</span></div></div><div class=\"FicheDonnees__item\"><div class=\"FicheDonnees__date\"><p>Du XX-XX-XXXX</p><p>au XX-XX-XXXX </p><p class=\"soBaseColor-600 italic\">XX XXXX X XXXX XX XX XXXXX </p></div><div class=\"FicheDonnees__timeline\"><div class=\"line\"></div><div class=\"cercle\"></div></div><div class=\"FicheDonnees__description newoffers\"><span class=\"description-txt\">A....... (1.......)</span></div></div><div class=\"FicheDonnees__item\"><div class=\"FicheDonnees__date\"><p>Du XX-XX-XXXX</p><p>au XX-XX-XXXX </p><p class=\"soBaseColor-600 italic\">X XXXX XX XX XXXXX </p></div><div class=\"FicheDonnees__timeline\"><div class=\"line\"></div><div class=\"cercle\"></div></div><div class=\"FicheDonnees__description newoffers\"><span class=\"description-txt\">A....... (1.......)</span></div></div><div class=\"compteplus historiqueDonneesAffiliationDesktop newoffers\"><div class=\"AutopromoPlus__promo inTable newoffers\"><span class=\"AutopromoPlus__icon\"><i class=\"material-icons-outlined\">rocket_launch</i></span><p class=\"AutopromoPlus__text\">Version limitée. Pour en voir plus, faites évoluer votre offre. </p><p class=\"flex center\"><a class=\"CtaButton text reverse mr-8\" href=\"https://paiement.societe.com/cgi-bin/compte-login\">Se connecter</a><a class=\"CtaButton reverse\" href=\"/offres.html\" onclick=\"gana_event(this.href, 'Conversion', 'SocietePlus', 'ape imr'); return false;\">Découvrir</a></p></div></div></div><div class=\"histo-part isHidden\" id=\"ape-histo-content-src-insee\"><div class=\"FicheDonnees__item\"><div class=\"FicheDonnees__date\"><p>Du 30-06-2022</p><p>à aujourd'hui </p><p class=\"soBaseColor-600 italic\">1 an, 6 mois et 10 jours </p></div><div class=\"FicheDonnees__timeline first\"><div class=\"line\"></div><div class=\"cercle\"></div></div><div class=\"FicheDonnees__description first newoffers\"><span class=\"description-txt\">Apprêt et tannage des cuirs, préparation et teinture des fourrures (1511Z)</span></div></div><div class=\"FicheDonnees__item\"><div class=\"FicheDonnees__date\"><p>Du XX-XX-XXXX</p><p>au XX-XX-XXXX </p><p class=\"soBaseColor-600 italic\">XX XXXXX </p></div><div class=\"FicheDonnees__timeline\"><div class=\"line\"></div><div class=\"cercle\"></div></div><div class=\"FicheDonnees__description newoffers\"><span class=\"description-txt\">C....... (4.......)</span></div></div><div class=\"FicheDonnees__item\"><div class=\"FicheDonnees__date\"><p>Du XX-XX-XXXX</p><p>au XX-XX-XXXX </p><p class=\"soBaseColor-600 italic\">XX XXXX X XXXX XX X XXXXX </p></div><div class=\"FicheDonnees__timeline\"><div class=\"line\"></div><div class=\"cercle\"></div></div><div class=\"FicheDonnees__description newoffers\"><span class=\"description-txt\">A....... (1.......)</span></div></div><div class=\"FicheDonnees__item\"><div class=\"FicheDonnees__date\"><p>Du XX-XX-XXXX</p><p>au XX-XX-XXXX </p><p class=\"soBaseColor-600 italic\">XX XXXXX </p></div><div class=\"FicheDonnees__timeline\"><div class=\"line\"></div><div class=\"cercle\"></div></div><div class=\"FicheDonnees__description newoffers\"><span class=\"description-txt\">A....... (1.......)</span></div></div><div class=\"compteplus historiqueDonneesAffiliationDesktop newoffers\"><div class=\"AutopromoPlus__promo inTable newoffers\"><span class=\"AutopromoPlus__icon\"><i class=\"material-icons-outlined\">rocket_launch</i></span><p class=\"AutopromoPlus__text\">Version limitée. Pour en voir plus, faites évoluer votre offre. </p><p class=\"flex center\"><a class=\"CtaButton text reverse mr-8\" href=\"https://paiement.societe.com/cgi-bin/compte-login\">Se connecter</a><a class=\"CtaButton reverse\" href=\"/offres.html\" onclick=\"gana_event(this.href, 'Conversion', 'SocietePlus', 'ape insee'); return false;\">Découvrir</a></p></div></div></div></div></div></td></tr><tr><td class=\"arrow\">Activité principale déclarée</td><td>Travail à façon de tous cuirs et peaux bruts et substituts de cuirs, fabrication de tous articles de maroquinerie et chaussures.</td></tr><tr><td class=\"arrow\">Convention collective déduite: </td><td class=\"no-padding arrow\"><div class=\"copyNumber\"><div class=\"copyNumber__number\" id=\"idccdeduit_number\" onclick=\"copy_clipboard(this)\"> Industrie des cuirs et peaux (<span class=\"copyNumber__copy\">207</span>) </div><i class=\"material-icons-outlined copyNumber__icon\" id=\"idccdeduit_icon\" onclick=\"copy_clipboard(this)\">content_copy</i><span class=\"copyNumber__action\" id=\"idccdeduit_action\">Copier le n°<span class=\"break\"></span> de IDCC</span><label class=\"labelIsInvisible\" for=\"idccdeduit_copy\">Copier IDCC</label><input class=\"copyNumber__copyHidden\" id=\"idccdeduit_copy\" value=\"207\"/></div></td></tr><tr class=\"bg-soPrimaryColor2-25\"><td colspan=\"2\"><span class=\"soBaseColor-700 ft-medium\">Informations juridiques</span></td></tr><tr><td class=\"arrow\">Statut RCS</td><td class=\"flex space-between flex-wrap\"><div class=\"TableTexteGauche\"><span class=\"TableTextGenerique\"><i class=\"material-icons-outlined soSecondaryColor4 fs-20\">done</i><span class=\"soSecondaryColor4\">INSCRITE</span></span><span class=\"TableTextDetail with-picto\"><span class=\"show-mobile-inline-l\"> - </span>au greffe de Coutances </span></div><span class=\"TableLienDroite\"><a class=\"Lien with-picto bottom\" data-siren=\"501737761\" data-siret=\"50173776100020\" href=\"javascript:void(0);\" onclick=\"direct_download(this, 'immat');\"><span class=\"hide-mobile-inline-l\">Situation RCS</span><span class=\"show-mobile-inline-l\">Extrait d'immatriculation RCS</span><i class=\"material-icons-outlined\">file_download</i></a></span></td></tr><tr><td class=\"arrow\">Statut INSEE</td><td class=\"flex space-between flex-wrap\"><div class=\"TableTexteGauche\"><i class=\"material-icons-outlined soSecondaryColor4 fs-20\">done</i><span class=\"soSecondaryColor4\">INSCRITE </span></div><span class=\"TableLienDroite\"><a class=\"Lien with-picto bottom\" data-siren=\"501737761\" data-siret=\"50173776100020\" href=\"javascript:void(0);\" onclick=\"direct_download(this, 'avis');\"><span class=\"hide-mobile-inline-l\">Situation SIRENE</span><span class=\"show-mobile-inline-l\">Extrait d'immatriculation SIRENE</span><i class=\"material-icons-outlined\">file_download</i></a></span></td></tr><tr><td class=\"arrow\">Date d'immatriculation RCS</td><td>Immatriculée au RCS le 31-12-2007 </td></tr><tr><td class=\"arrow\">Date d'enregistrement INSEE</td><td>Enregistrée à l'INSEE le 17-12-2007 </td></tr><tr class=\"bg-soPrimaryColor2-25\"><td colspan=\"2\"><span class=\"soBaseColor-700 ft-medium\">Taille de l'entreprise</span></td></tr><tr class=\"Paywall\"><td class=\"arrow\" colspan=\"2\"><div class=\"FicheDonnees__around\" id=\"trancheeff-histo-around\"><div class=\"FicheDonnees\" id=\"trancheeff-histo\" onclick=\"show_historique_donnees('trancheeff-histo-voir')\"><div class=\"abonne-compteplus donneesHistoriques voirPlus\" id=\"trancheeff-histo-voir\"><p class=\"Lien with-picto\"><span class=\"hide-mobile-inline-l\">Historique</span><span class=\"show-mobile-inline-l\">Voir l'historique</span><i class=\"material-icons-outlined\">expand_more</i></p></div><div class=\"FicheDonnees__libelle\">Effectif (tranche INSEE à 18 mois) </div><div class=\"FicheDonnees__donneeGenerique ml-6\" id=\"trancheeff-histo-description\">50 à 99 salariés </div><div class=\"FicheDonnees__donneeGenerique ml-6 soPrimaryColor2 isHidden\" id=\"trancheeff-histo-libelle\">Historique </div></div><div class=\"FicheDonnees__historique nocompteplus noOpacity\" id=\"trancheeff-histo-content\"><div class=\"FicheDonnees__item\"><div class=\"FicheDonnees__date\"><p>Du 17-12-2007</p><p>à aujourd'hui </p><p class=\"soBaseColor-600 italic\">16 ans et 21 jours </p></div><div class=\"FicheDonnees__timeline first\"><div class=\"line\"></div><div class=\"cercle\"></div></div><div class=\"FicheDonnees__description first\"><span class=\"description-txt\">50 à 99 salariés</span></div></div><div class=\"compteplus historiqueDonneesAffiliationDesktop newoffers\"><div class=\"AutopromoPlus__promo inTable newoffers\"><span class=\"AutopromoPlus__icon\"><i class=\"material-icons-outlined\">rocket_launch</i></span><p class=\"AutopromoPlus__text\">Version limitée. Pour en voir plus, faites évoluer votre offre. </p><p class=\"flex center\"><a class=\"CtaButton text reverse mr-8\" href=\"https://paiement.societe.com/cgi-bin/compte-login\">Se connecter</a><a class=\"CtaButton reverse\" href=\"/offres.html\" onclick=\"gana_event(this.href, 'Conversion', 'SocietePlus', 'trancheeff'); return false;\">Découvrir</a></p></div></div></div></div></td></tr><tr class=\"Paywall\"><td class=\"arrow\" colspan=\"2\"><div class=\"FicheDonnees__around\" id=\"capital-histo-around\"><div class=\"FicheDonnees\" id=\"capital-histo\" onclick=\"show_historique_donnees('capital-histo-voir');\"><div class=\"abonne-compteplus donneesHistoriques voirPlus\" id=\"capital-histo-voir\"><p class=\"Lien with-picto\"><span class=\"hide-mobile-inline-l\">Historique</span><span class=\"show-mobile-inline-l\">Voir l'historique</span><i class=\"material-icons-outlined\">expand_more</i></p></div><div class=\"FicheDonnees__libelle\">Capital social </div><div class=\"FicheDonnees__donneeGenerique ml-6 numdisplay\" id=\"capital-histo-description\">4547479,00 EURO </div><div class=\"FicheDonnees__donneeGenerique ml-6 soPrimaryColor2 isHidden\" id=\"capital-histo-libelle\">Historique </div></div><div class=\"FicheDonnees__historique nocompteplus noOpacity\" id=\"capital-histo-content\"><div class=\"FicheDonnees__item\"><div class=\"FicheDonnees__date\"><p>Du 01-07-2008</p><p>à aujourd'hui </p><p class=\"soBaseColor-600 italic\">15 ans, 6 mois et 9 jours </p></div><div class=\"FicheDonnees__timeline first\"><div class=\"line\"></div><div class=\"cercle\"></div></div><div class=\"FicheDonnees__description first newoffers\"><span class=\"description-txt\">Capital social : <span class=\"numdisplay\">4547479,00 EURO</span></span></div></div><div class=\"FicheDonnees__item\"><div class=\"FicheDonnees__date\"><p>Du XX-XX-XXXX</p><p>au XX-XX-XXXX </p><p class=\"soBaseColor-600 italic\">X XXXX XX X XXXXX </p></div><div class=\"FicheDonnees__timeline\"><div class=\"line\"></div><div class=\"cercle\"></div></div><div class=\"FicheDonnees__description newoffers\"><span class=\"description-txt\">C....... : <span class=\"numdisplay\">XXXXXXX XXXX</span></span></div></div><div class=\"compteplus historiqueDonneesAffiliationDesktop newoffers\"><div class=\"AutopromoPlus__promo inTable newoffers\"><span class=\"AutopromoPlus__icon\"><i class=\"material-icons-outlined\">rocket_launch</i></span><p class=\"AutopromoPlus__text\">Version limitée. Pour en voir plus, faites évoluer votre offre. </p><p class=\"flex center\"><a class=\"CtaButton text reverse mr-8\" href=\"https://paiement.societe.com/cgi-bin/compte-login\">Se connecter</a><a class=\"CtaButton reverse\" href=\"/offres.html\" onclick=\"gana_event(this.href, 'Conversion', 'SocietePlus', 'capital'); return false;\">Découvrir</a></p></div></div></div></div></td></tr><tr><td class=\"arrow\">Chiffre d'affaires 2022</td><td><span class=\"numdisplay\">11338600.00 EU</span></td></tr></table>"
      ]
     },
     "execution_count": 19,
     "metadata": {},
     "output_type": "execute_result"
    }
   ],
   "source": [
    "soup.find_all(name=\"table\", class_=\"Table identity mt-16\")[0]"
   ]
  },
  {
   "cell_type": "markdown",
   "metadata": {},
   "source": [
    "# Test avec 2 URLs"
   ]
  },
  {
   "cell_type": "markdown",
   "metadata": {},
   "source": [
    "A l'avenir, ces listes seront remplacées par un fichier excel contenant 2 colonnes : une colonne \"Nom\" et une colonne \"SIREN\""
   ]
  },
  {
   "cell_type": "code",
   "execution_count": null,
   "metadata": {},
   "outputs": [],
   "source": [
    "# Nom \"brutes\"\n",
    "liste_nom = [\"France Croco\", \"Wahaus\"]\n",
    "print(\">> Liste de noms avant préparation :\", liste_nom)\n",
    "\n",
    "# Noms formatés pour les injecter dans l'URL\n",
    "liste_nom = [nom.strip().lower().replace(\" \", \"-\") for nom in liste_nom]\n",
    "print(\">> Liste de noms après préparation :\", liste_nom)\n",
    "\n",
    "# Numéros SIREN\n",
    "liste_numero_siren = [\"501737761\", \"537443228\"]\n",
    "print(\">> Numéros SIREN :\", liste_numero_siren)"
   ]
  },
  {
   "cell_type": "code",
   "execution_count": null,
   "metadata": {},
   "outputs": [],
   "source": [
    "# Création de la liste des urls\n",
    "liste_url = [\n",
    "    csts.BASE_URL + nom + \"-\" + siren + csts.HTML\n",
    "    for nom, siren in list(zip(liste_nom, liste_numero_siren))\n",
    "]\n",
    "\n",
    "# Affichage de la liste des urls\n",
    "liste_url"
   ]
  },
  {
   "cell_type": "markdown",
   "metadata": {},
   "source": [
    "# C TIPAR"
   ]
  },
  {
   "cell_type": "code",
   "execution_count": null,
   "metadata": {},
   "outputs": [],
   "source": [
    "# Instantiation d'une liste vide prête à accueillir les données des entreprises\n",
    "donnees_entreprises = []\n",
    "\n",
    "# Pour chaque url\n",
    "for url in liste_url:\n",
    "    # Stockage du contenu de la page dans un object BeautifulSoup permettant d'accéder facilement aux éléments de la page\n",
    "    contenu_page = generate_soup(url=url)\n",
    "\n",
    "    # Extraction des éléments nécessaires de la page (composant \"table\" avec la classe \"Table identity mt-16\")\n",
    "    contenu_page = contenu_page.findAll(name=\"table\", class_=\"Table identity mt-16\")[0]\n",
    "\n",
    "    # Extraction du nom de l'entreprise\n",
    "    nom = contenu_page.find(name=\"td\", class_=\"break-word\").text\n",
    "\n",
    "    # Extraction de l'adresse\n",
    "    adresse = contenu_page.find(name=\"a\", class_=\"Lien secondaire\").text.strip()\n",
    "\n",
    "    # Extraction du numéro SIREN\n",
    "    numero_siren = contenu_page.find(name=\"div\", id=\"siren_number\").text\n",
    "\n",
    "    # Extraction du numéro SIRET\n",
    "    numero_siret = contenu_page.find(name=\"div\", id=\"siret_number\").text\n",
    "\n",
    "    # Extraction du numéro TVA\n",
    "    numero_tva = contenu_page.find(name=\"div\", id=\"tva_number\").text\n",
    "\n",
    "    # Stockage des données d'une entreprise dans un dataframe\n",
    "    donnees_entreprise = pd.DataFrame(\n",
    "        [\n",
    "            {\n",
    "                \"Nom Commerciaux\": nom,\n",
    "                \"Adresse\": adresse,\n",
    "                \"Numéro SIREN\": numero_siren,\n",
    "                \"Numéro SIRET\": numero_siret,\n",
    "                \"Numéro TVA\": numero_tva,\n",
    "            }\n",
    "        ]\n",
    "    )\n",
    "\n",
    "    # Ajout du dataframe de l'entreprise à la liste des dataframes des entreprises\n",
    "    donnees_entreprises.append(donnees_entreprise)\n",
    "\n",
    "# Concaténation de l'ensemble des dataframes en un seul et unique tableau\n",
    "donnees_entreprises = pd.concat(objs=donnees_entreprises, axis=0, ignore_index=True)"
   ]
  },
  {
   "cell_type": "markdown",
   "metadata": {},
   "source": [
    "# ET VOILA"
   ]
  },
  {
   "cell_type": "code",
   "execution_count": null,
   "metadata": {},
   "outputs": [],
   "source": [
    "donnees_entreprises"
   ]
  }
 ],
 "metadata": {
  "kernelspec": {
   "display_name": "scraping-societe-GP-apnY6-py3.9",
   "language": "python",
   "name": "python3"
  },
  "language_info": {
   "codemirror_mode": {
    "name": "ipython",
    "version": 3
   },
   "file_extension": ".py",
   "mimetype": "text/x-python",
   "name": "python",
   "nbconvert_exporter": "python",
   "pygments_lexer": "ipython3",
   "version": "3.9.1"
  }
 },
 "nbformat": 4,
 "nbformat_minor": 2
}
